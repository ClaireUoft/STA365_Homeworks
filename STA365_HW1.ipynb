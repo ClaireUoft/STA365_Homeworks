{
 "cells": [
  {
   "cell_type": "code",
   "execution_count": 1,
   "id": "1046f2f4-832f-4c14-bfc8-99780a4c43d5",
   "metadata": {
    "editable": true,
    "slideshow": {
     "slide_type": ""
    },
    "tags": []
   },
   "outputs": [
    {
     "name": "stdout",
     "output_type": "stream",
     "text": [
      "Proportion of students who pass given they answer quickly: 0.947\n"
     ]
    }
   ],
   "source": [
    "# Given probabilities\n",
    "P_A = 0.9  # Probability of passing the class\n",
    "P_Ac = 1 - P_A  # Probability of not passing the class\n",
    "P_B_given_A = 0.6  # Probability of answering quickly given passing\n",
    "P_B_given_Ac = 0.3  # Probability of answering quickly given not passing\n",
    "\n",
    "# Applying Bayes' Theorem\n",
    "P_A_given_B = (P_B_given_A * P_A) / ((P_B_given_A * P_A) + (P_B_given_Ac * P_Ac))\n",
    "\n",
    "# Print the result\n",
    "print(f\"Proportion of students who pass given they answer quickly: {P_A_given_B:.3f}\")\n"
   ]
  },
  {
   "cell_type": "code",
   "execution_count": 2,
   "id": "ad2e8dfd-b410-4a56-88aa-ed7f6de6b9e2",
   "metadata": {},
   "outputs": [
    {
     "name": "stdout",
     "output_type": "stream",
     "text": [
      "Prior parameters (alpha): [2 3 4]\n",
      "Observed counts (x): [5 7 8]\n",
      "Posterior parameters (alpha + x): [ 7 10 12]\n"
     ]
    }
   ],
   "source": [
    "import numpy as np\n",
    "\n",
    "# Define the prior parameters (Dirichlet prior)\n",
    "alpha = np.array([2, 3, 4])  # Example prior parameters for 3 categories\n",
    "\n",
    "# Define the observed data (counts from the multinomial distribution)\n",
    "x = np.array([5, 7, 8])  # Observed counts for the 3 categories\n",
    "\n",
    "# Compute the posterior parameters\n",
    "posterior_alpha = alpha + x\n",
    "\n",
    "# Display the results\n",
    "print(\"Prior parameters (alpha):\", alpha)\n",
    "print(\"Observed counts (x):\", x)\n",
    "print(\"Posterior parameters (alpha + x):\", posterior_alpha)\n"
   ]
  },
  {
   "cell_type": "code",
   "execution_count": null,
   "id": "3b1499c2-a586-4455-a7fe-2e47fa3b07ca",
   "metadata": {},
   "outputs": [],
   "source": []
  }
 ],
 "metadata": {
  "kernelspec": {
   "display_name": "Python 3 (ipykernel)",
   "language": "python",
   "name": "python3"
  },
  "language_info": {
   "codemirror_mode": {
    "name": "ipython",
    "version": 3
   },
   "file_extension": ".py",
   "mimetype": "text/x-python",
   "name": "python",
   "nbconvert_exporter": "python",
   "pygments_lexer": "ipython3",
   "version": "3.11.6"
  }
 },
 "nbformat": 4,
 "nbformat_minor": 5
}
